{
 "cells": [
  {
   "cell_type": "markdown",
   "metadata": {
    "colab_type": "text",
    "id": "Aom9vfzZyeFC"
   },
   "source": [
    "# Lab 10  (included answers)\n",
    "## Basic feed forward neural network "
   ]
  },
  {
   "cell_type": "code",
   "execution_count": 58,
   "metadata": {
    "colab": {},
    "colab_type": "code",
    "collapsed": true,
    "id": "Wb2phhHGyeFG"
   },
   "outputs": [],
   "source": [
    "# -*- coding: utf-8 -*-\n",
    "import tensorflow as tf\n",
    "import matplotlib.pyplot as plt\n",
    "import numpy as np\n",
    "from tqdm import tqdm  # for check the progress \n",
    "# A good progress bar is a useful progress bar. \n",
    "# To be useful, tqdm displays statistics and uses smart algorithms to predict and \n",
    "# automagically adapt to a variety of use cases with no or minimal configuration.\n",
    "# conda install -c conda-forge tqdm or pip install tqdm\n",
    "# https://github.com/tqdm/tqdm \n",
    "% matplotlib inline"
   ]
  },
  {
   "cell_type": "markdown",
   "metadata": {
    "colab_type": "text",
    "id": "scy7Qh4PyeFR"
   },
   "source": [
    "# 1. MNIST dataset\n",
    "\n",
    "####  https://ml-cheatsheet.readthedocs.io/en/latest/ (for All)\n",
    "####  http://pythonkim.tistory.com/ (for Korean students )\n",
    "\n"
   ]
  },
  {
   "cell_type": "markdown",
   "metadata": {
    "colab_type": "text",
    "id": "z16SBWKxyeFV"
   },
   "source": [
    "## 1.1 Download MNIST dataset"
   ]
  },
  {
   "cell_type": "code",
   "execution_count": 59,
   "metadata": {
    "colab": {
     "base_uri": "https://localhost:8080/",
     "height": 86
    },
    "colab_type": "code",
    "executionInfo": {
     "elapsed": 1203,
     "status": "ok",
     "timestamp": 1542762203273,
     "user": {
      "displayName": "CHANG JOO Oh",
      "photoUrl": "https://lh3.googleusercontent.com/-OSh6aDfznEQ/AAAAAAAAAAI/AAAAAAAAAdQ/x_um0E9G7eA/s64/photo.jpg",
      "userId": "02799122219370934760"
     },
     "user_tz": -540
    },
    "id": "567ru6UeyeFY",
    "outputId": "ba60549d-e99b-46a8-95ae-c8f8327afaa5"
   },
   "outputs": [
    {
     "name": "stdout",
     "output_type": "stream",
     "text": [
      "Extracting ITP117/train-images-idx3-ubyte.gz\n",
      "Extracting ITP117/train-labels-idx1-ubyte.gz\n",
      "Extracting ITP117/t10k-images-idx3-ubyte.gz\n",
      "Extracting ITP117/t10k-labels-idx1-ubyte.gz\n"
     ]
    }
   ],
   "source": [
    "from tensorflow.examples.tutorials.mnist import input_data\n",
    "mnist = input_data.read_data_sets(\"ITP117/\", one_hot=True)"
   ]
  },
  {
   "cell_type": "markdown",
   "metadata": {
    "colab_type": "text",
    "id": "L2slpDRQyeFj"
   },
   "source": [
    "## 1.2 Understand structure of the MNIST dataset"
   ]
  },
  {
   "cell_type": "markdown",
   "metadata": {},
   "source": [
    "<img src = https://d255esdrn735hr.cloudfront.net/graphics/9781788831109/graphics/B09698_03_03.jpg>"
   ]
  },
  {
   "cell_type": "markdown",
   "metadata": {
    "colab_type": "text",
    "id": "i8kmBBqKyeFl"
   },
   "source": [
    "#### The MNIST dataset was constructed from two datasets of the US National Institute of Standards and Technology(NIST). The training set consists of handwritten digits from 250 different people, 50 percent high school students, and 50 percent employees from the Census Bureau. "
   ]
  },
  {
   "cell_type": "markdown",
   "metadata": {},
   "source": [
    "To train, and test, the implemented models, we will be using one of the most famous datasets called MNIST of handwritten digits. The MNIST dataset is a training set of 55,000 examples and a test set of 10,000 examples. An example of the data, as it is stored in the files of the examples, is shown in the preceding figure.\n",
    "\n",
    "The source images were originally in black and white. Later, to normalize them to the size of 20×20 pixels, intermediate brightness levels were introduced, due to the effect of the anti-aliasing filter for resizing. Subsequently, the images were focused in the center of mass of the pixels, in an area of 28×28 pixels, in order to improve the learning process.\n"
   ]
  },
  {
   "cell_type": "code",
   "execution_count": 60,
   "metadata": {
    "colab": {
     "base_uri": "https://localhost:8080/",
     "height": 54
    },
    "colab_type": "code",
    "executionInfo": {
     "elapsed": 606,
     "status": "ok",
     "timestamp": 1542762208443,
     "user": {
      "displayName": "CHANG JOO Oh",
      "photoUrl": "https://lh3.googleusercontent.com/-OSh6aDfznEQ/AAAAAAAAAAI/AAAAAAAAAdQ/x_um0E9G7eA/s64/photo.jpg",
      "userId": "02799122219370934760"
     },
     "user_tz": -540
    },
    "id": "pBnBCbW6yeFn",
    "outputId": "1b7c1d8d-2f2f-4080-9722-df83f7579800"
   },
   "outputs": [
    {
     "name": "stdout",
     "output_type": "stream",
     "text": [
      "Datasets(train=<tensorflow.contrib.learn.python.learn.datasets.mnist.DataSet object at 0x7f709f8be6d8>, validation=<tensorflow.contrib.learn.python.learn.datasets.mnist.DataSet object at 0x7f709faa0f28>, test=<tensorflow.contrib.learn.python.learn.datasets.mnist.DataSet object at 0x7f709faa0a58>)\n"
     ]
    }
   ],
   "source": [
    "print(mnist)\n",
    "\n",
    "# Split MNIST datset into 3 part: train, validation, test\n",
    "train, validation, test = mnist"
   ]
  },
  {
   "cell_type": "markdown",
   "metadata": {
    "colab_type": "text",
    "id": "ULI9UBbKyeFv"
   },
   "source": [
    "### Structure of the train set\n",
    "#### train.labels: label vectors for each data\n",
    "#### train.images: 1-d image vectors for each data"
   ]
  },
  {
   "cell_type": "code",
   "execution_count": 61,
   "metadata": {
    "colab": {
     "base_uri": "https://localhost:8080/",
     "height": 34
    },
    "colab_type": "code",
    "executionInfo": {
     "elapsed": 957,
     "status": "ok",
     "timestamp": 1542762333404,
     "user": {
      "displayName": "CHANG JOO Oh",
      "photoUrl": "https://lh3.googleusercontent.com/-OSh6aDfznEQ/AAAAAAAAAAI/AAAAAAAAAdQ/x_um0E9G7eA/s64/photo.jpg",
      "userId": "02799122219370934760"
     },
     "user_tz": -540
    },
    "id": "AieCaQOUyeFy",
    "outputId": "76fbe024-5f3a-41b8-abae-52438c7e1421"
   },
   "outputs": [
    {
     "data": {
      "text/plain": [
       "(55000, 784)"
      ]
     },
     "execution_count": 61,
     "metadata": {},
     "output_type": "execute_result"
    }
   ],
   "source": [
    "train.images.shape"
   ]
  },
  {
   "cell_type": "code",
   "execution_count": 62,
   "metadata": {
    "colab": {
     "base_uri": "https://localhost:8080/",
     "height": 34
    },
    "colab_type": "code",
    "executionInfo": {
     "elapsed": 631,
     "status": "ok",
     "timestamp": 1542762335095,
     "user": {
      "displayName": "CHANG JOO Oh",
      "photoUrl": "https://lh3.googleusercontent.com/-OSh6aDfznEQ/AAAAAAAAAAI/AAAAAAAAAdQ/x_um0E9G7eA/s64/photo.jpg",
      "userId": "02799122219370934760"
     },
     "user_tz": -540
    },
    "id": "_osVjlgbyeF-",
    "outputId": "4c073031-b776-48f9-d6bc-c30c601cd732"
   },
   "outputs": [
    {
     "data": {
      "text/plain": [
       "(55000, 10)"
      ]
     },
     "execution_count": 62,
     "metadata": {},
     "output_type": "execute_result"
    }
   ],
   "source": [
    "train.labels.shape"
   ]
  },
  {
   "cell_type": "markdown",
   "metadata": {
    "colab_type": "text",
    "id": "G3A6YJ7YyeGF"
   },
   "source": [
    "## Exercise 1: Investigate structure of validation set and test set"
   ]
  },
  {
   "cell_type": "code",
   "execution_count": 63,
   "metadata": {
    "colab": {
     "base_uri": "https://localhost:8080/",
     "height": 86
    },
    "colab_type": "code",
    "executionInfo": {
     "elapsed": 743,
     "status": "ok",
     "timestamp": 1542762337773,
     "user": {
      "displayName": "CHANG JOO Oh",
      "photoUrl": "https://lh3.googleusercontent.com/-OSh6aDfznEQ/AAAAAAAAAAI/AAAAAAAAAdQ/x_um0E9G7eA/s64/photo.jpg",
      "userId": "02799122219370934760"
     },
     "user_tz": -540
    },
    "id": "TCD8HF_oyeGK",
    "outputId": "4b806bb9-8bff-429b-ff37-7e8ce612aebb"
   },
   "outputs": [
    {
     "name": "stdout",
     "output_type": "stream",
     "text": [
      "(5000, 784)\n",
      "(5000, 10)\n"
     ]
    }
   ],
   "source": [
    "print(validation.images.shape)\n",
    "print(validation.labels.shape)\n"
   ]
  },
  {
   "cell_type": "code",
   "execution_count": 64,
   "metadata": {
    "colab": {
     "base_uri": "https://localhost:8080/",
     "height": 86
    },
    "colab_type": "code",
    "executionInfo": {
     "elapsed": 404,
     "status": "ok",
     "timestamp": 1542762338877,
     "user": {
      "displayName": "CHANG JOO Oh",
      "photoUrl": "https://lh3.googleusercontent.com/-OSh6aDfznEQ/AAAAAAAAAAI/AAAAAAAAAdQ/x_um0E9G7eA/s64/photo.jpg",
      "userId": "02799122219370934760"
     },
     "user_tz": -540
    },
    "id": "M2zwvsxyyeGV",
    "outputId": "1fd85855-d5c0-44f5-c670-5ac634a41cd9",
    "scrolled": true
   },
   "outputs": [
    {
     "name": "stdout",
     "output_type": "stream",
     "text": [
      "(10000, 784)\n",
      "(10000, 10)\n"
     ]
    }
   ],
   "source": [
    "print(test.images.shape)\n",
    "print(test.labels.shape)\n"
   ]
  },
  {
   "cell_type": "markdown",
   "metadata": {
    "colab_type": "text",
    "id": "itjBSr6tyeGa"
   },
   "source": [
    "## 1.3 Visualize images of the MNIST dataset"
   ]
  },
  {
   "cell_type": "code",
   "execution_count": 65,
   "metadata": {},
   "outputs": [
    {
     "name": "stdout",
     "output_type": "stream",
     "text": [
      "[0. 0. 0. 0. 0. 0. 0. 1. 0. 0.]\n"
     ]
    }
   ],
   "source": [
    "# Visualize a single digit  == > This is one-hot coding\n",
    "image_0 =  mnist.train.images[1000]\n",
    "image_0 = np.resize(image_0,(28,28))\n",
    "label_0 =  mnist.train.labels[0]\n",
    "print(label_0)\n",
    "# The number 1 is the eighth position of the array. \n",
    "# This means that the figure for our image is the digit 7. "
   ]
  },
  {
   "cell_type": "code",
   "execution_count": 66,
   "metadata": {
    "colab": {},
    "colab_type": "code",
    "collapsed": true,
    "id": "DEJEEEUtyeGc"
   },
   "outputs": [],
   "source": [
    "# Function for visualize a MNIST image.\n",
    "def visualize_MNIST_image(dataset, index):\n",
    "    target_label = np.argmax(dataset.labels[index])\n",
    "    target_image = dataset.images[index]\n",
    "    \n",
    "    # Reshape the array into 28 x 28 array (2-dimensional array)\n",
    "    image_2d_array = target_image.reshape((28, 28))\n",
    "    \n",
    "    plt.title('Label: %d'%target_label)\n",
    "    plt.imshow(image_2d_array, cmap='gray')\n",
    "    plt.show()\n",
    "    \n",
    "    "
   ]
  },
  {
   "cell_type": "code",
   "execution_count": 67,
   "metadata": {
    "colab": {},
    "colab_type": "code",
    "id": "4T9mGFXbyeGf"
   },
   "outputs": [
    {
     "data": {
      "image/png": "[encoded data removed]",
      "text/plain": [
       "<Figure size 432x288 with 1 Axes>"
      ]
     },
     "metadata": {
      "needs_background": "light"
     },
     "output_type": "display_data"
    }
   ],
   "source": [
    "visualize_MNIST_image(train, 0)"
   ]
  },
  {
   "cell_type": "markdown",
   "metadata": {
    "colab_type": "text",
    "id": "7BT2OHo6yeGp"
   },
   "source": [
    "# 2. Single layer neural network model\n",
    "\n",
    "<img src=\"mnist_1layer.png\">"
   ]
  },
  {
   "cell_type": "markdown",
   "metadata": {
    "colab_type": "text",
    "id": "X2gJ4AKMyeGr"
   },
   "source": [
    "## 2.1 Set the variables\n",
    "### Set the hyper-parameters for neural network model"
   ]
  },
  {
   "cell_type": "code",
   "execution_count": 68,
   "metadata": {
    "colab": {},
    "colab_type": "code",
    "collapsed": true,
    "id": "M5DU5cmbyeGt"
   },
   "outputs": [],
   "source": [
    "learning_rate = 0.05\n",
    "num_of_epoch = 100  # training period"
   ]
  },
  {
   "cell_type": "markdown",
   "metadata": {
    "colab_type": "text",
    "id": "IXLVfRF7yeG5"
   },
   "source": [
    "### Set placeholders\n",
    "#### x  : Input image vectors with 784 dimension\n",
    "#### y_: True label vectors with 10 dimenstion"
   ]
  },
  {
   "cell_type": "code",
   "execution_count": 69,
   "metadata": {
    "colab": {},
    "colab_type": "code",
    "collapsed": true,
    "id": "LWA5FvpsyeG9"
   },
   "outputs": [],
   "source": [
    "x = tf.placeholder(tf.float32, [None, 784])\n",
    "y_ = tf.placeholder(tf.float32, [None, 10])"
   ]
  },
  {
   "cell_type": "markdown",
   "metadata": {
    "colab_type": "text",
    "id": "VaGOAAM2yeGz"
   },
   "source": [
    "### Set free parameters for neural network model\n",
    "#### W : Weight matrix of neural network\n",
    "#### b  : Bias of neural network"
   ]
  },
  {
   "cell_type": "code",
   "execution_count": 70,
   "metadata": {
    "colab": {},
    "colab_type": "code",
    "collapsed": true,
    "id": "ArqM8petyeG1"
   },
   "outputs": [],
   "source": [
    "W = tf.Variable(tf.zeros([784, 10]))\n",
    "b = tf.Variable(tf.zeros([10]))"
   ]
  },
  {
   "cell_type": "markdown",
   "metadata": {
    "colab_type": "text",
    "id": "yDqNNORRyeHB"
   },
   "source": [
    "## 2.2 Define single layer neural network\n",
    "#### Numerical expression for the neural network: y = softmax(x ⋅ W + b)"
   ]
  },
  {
   "cell_type": "code",
   "execution_count": 71,
   "metadata": {
    "colab": {},
    "colab_type": "code",
    "collapsed": true,
    "id": "nuMImwixyeHE"
   },
   "outputs": [],
   "source": [
    "y = tf.nn.softmax(tf.matmul(x, W) + b)"
   ]
  },
  {
   "cell_type": "markdown",
   "metadata": {
    "colab_type": "text",
    "id": "DD6WeD83yeHO"
   },
   "source": [
    "## 2.3 Define cross entropy loss function"
   ]
  },
  {
   "cell_type": "code",
   "execution_count": 72,
   "metadata": {
    "colab": {},
    "colab_type": "code",
    "collapsed": true,
    "id": "QGu50rZFyeHX"
   },
   "outputs": [],
   "source": [
    "cross_entropy = tf.reduce_mean(-tf.reduce_sum(y_ * tf.log(y), reduction_indices=[1]))"
   ]
  },
  {
   "cell_type": "markdown",
   "metadata": {
    "colab_type": "text",
    "id": "lIHn6oweyeHf"
   },
   "source": [
    "## 2.4 Train the model's parameter W and b with gradient descent"
   ]
  },
  {
   "cell_type": "code",
   "execution_count": 73,
   "metadata": {
    "colab": {},
    "colab_type": "code",
    "collapsed": true,
    "id": "BZaCA4iCyeHh"
   },
   "outputs": [],
   "source": [
    "# Define training step of the model\n",
    "train_step = tf.train.GradientDescentOptimizer(learning_rate).minimize(cross_entropy)"
   ]
  },
  {
   "cell_type": "code",
   "execution_count": 74,
   "metadata": {
    "colab": {
     "base_uri": "https://localhost:8080/",
     "height": 34
    },
    "colab_type": "code",
    "executionInfo": {
     "elapsed": 19513,
     "status": "ok",
     "timestamp": 1542763881624,
     "user": {
      "displayName": "CHANG JOO Oh",
      "photoUrl": "https://lh3.googleusercontent.com/-OSh6aDfznEQ/AAAAAAAAAAI/AAAAAAAAAdQ/x_um0E9G7eA/s64/photo.jpg",
      "userId": "02799122219370934760"
     },
     "user_tz": -540
    },
    "id": "HYYEvpbSyeHp",
    "outputId": "8f0690e6-e7d4-4ce3-e45c-34cac50ffade"
   },
   "outputs": [
    {
     "name": "stderr",
     "output_type": "stream",
     "text": [
      "100%|██████████| 100/100 [00:09<00:00, 10.27it/s]\n"
     ]
    }
   ],
   "source": [
    "init = tf.global_variables_initializer()\n",
    "sess = tf.Session()\n",
    "sess.run(init)\n",
    "for i in tqdm(range(num_of_epoch)):\n",
    "    X = mnist.train.images\n",
    "    Y = mnist.train.labels\n",
    "    sess.run(train_step, feed_dict={x: X, y_: Y})\n"
   ]
  },
  {
   "cell_type": "markdown",
   "metadata": {
    "colab_type": "text",
    "id": "v61UFwSoyeHw"
   },
   "source": [
    "## 2.5 Evaluate the model's performance"
   ]
  },
  {
   "cell_type": "code",
   "execution_count": 75,
   "metadata": {
    "colab": {},
    "colab_type": "code",
    "collapsed": true,
    "id": "Ie928r1XyeHx"
   },
   "outputs": [],
   "source": [
    "# Define accuracy\n",
    "correct_prediction = tf.equal(tf.argmax(y,1), tf.argmax(y_,1))\n",
    "accuracy = tf.reduce_mean(tf.cast(correct_prediction, tf.float32))"
   ]
  },
  {
   "cell_type": "code",
   "execution_count": 76,
   "metadata": {
    "colab": {
     "base_uri": "https://localhost:8080/",
     "height": 34
    },
    "colab_type": "code",
    "executionInfo": {
     "elapsed": 597,
     "status": "ok",
     "timestamp": 1542763888327,
     "user": {
      "displayName": "CHANG JOO Oh",
      "photoUrl": "https://lh3.googleusercontent.com/-OSh6aDfznEQ/AAAAAAAAAAI/AAAAAAAAAdQ/x_um0E9G7eA/s64/photo.jpg",
      "userId": "02799122219370934760"
     },
     "user_tz": -540
    },
    "id": "7HIirH7VyeHz",
    "outputId": "8bdd126d-2f62-417d-ef9c-f65f5f9ef6ec"
   },
   "outputs": [
    {
     "name": "stdout",
     "output_type": "stream",
     "text": [
      "0.8509\n"
     ]
    }
   ],
   "source": [
    "# Evaluate model performance\n",
    "print(sess.run(accuracy, feed_dict={x: mnist.test.images, y_: mnist.test.labels}))\n"
   ]
  },
  {
   "cell_type": "markdown",
   "metadata": {
    "colab_type": "text",
    "id": "iVkZf2wayeIB"
   },
   "source": [
    "## 2.6 Visualize trained weight matrix W"
   ]
  },
  {
   "cell_type": "code",
   "execution_count": 77,
   "metadata": {
    "colab": {
     "base_uri": "https://localhost:8080/",
     "height": 17
    },
    "colab_type": "code",
    "executionInfo": {
     "elapsed": 898,
     "status": "ok",
     "timestamp": 1542763891415,
     "user": {
      "displayName": "CHANG JOO Oh",
      "photoUrl": "https://lh3.googleusercontent.com/-OSh6aDfznEQ/AAAAAAAAAAI/AAAAAAAAAdQ/x_um0E9G7eA/s64/photo.jpg",
      "userId": "02799122219370934760"
     },
     "user_tz": -540
    },
    "id": "EZnE03CLyeIC",
    "outputId": "7189ce80-098b-4445-99c3-3c793dad3648",
    "scrolled": false
   },
   "outputs": [
    {
     "data": {
      "image/png": "[encoded data removed]",
      "text/plain": [
       "<Figure size 864x648 with 10 Axes>"
      ]
     },
     "metadata": {
      "needs_background": "light"
     },
     "output_type": "display_data"
    }
   ],
   "source": [
    "# Get value of the weight matrix W\n",
    "W_ = sess.run(W)\n",
    "plt.figure(figsize=(12, 9))\n",
    "for i in range(10):\n",
    "    W_i = W_[:,i].reshape((28,28))\n",
    "    plt.subplot(2, 5, i+1)\n",
    "    plt.title('Filter: %d'%i)\n",
    "    plt.imshow(W_i, cmap='gray')\n",
    "\n",
    "plt.show()\n",
    "sess.close()"
   ]
  },
  {
   "cell_type": "markdown",
   "metadata": {
    "colab_type": "text",
    "id": "dYfWVHJgyeIN"
   },
   "source": [
    "# Multi-layer neural network model\n",
    "<img src=\"mnist_2layers.png\">"
   ]
  },
  {
   "cell_type": "code",
   "execution_count": 78,
   "metadata": {
    "collapsed": true
   },
   "outputs": [],
   "source": [
    "import tensorflow as tf\n",
    "import numpy as np\n",
    "from tqdm import tqdm"
   ]
  },
  {
   "cell_type": "code",
   "execution_count": 79,
   "metadata": {},
   "outputs": [
    {
     "name": "stdout",
     "output_type": "stream",
     "text": [
      "Extracting ITP11703/train-images-idx3-ubyte.gz\n",
      "Extracting ITP11703/train-labels-idx1-ubyte.gz\n",
      "Extracting ITP11703/t10k-images-idx3-ubyte.gz\n",
      "Extracting ITP11703/t10k-labels-idx1-ubyte.gz\n"
     ]
    }
   ],
   "source": [
    "from tensorflow.examples.tutorials.mnist import input_data\n",
    "mnist = input_data.read_data_sets(\"ITP11703/\", one_hot=True)"
   ]
  },
  {
   "cell_type": "code",
   "execution_count": 80,
   "metadata": {
    "colab": {},
    "colab_type": "code",
    "id": "oB1avGpByeIQ"
   },
   "outputs": [],
   "source": [
    "def weight_variable(shape):\n",
    "  initial = tf.truncated_normal(shape, stddev=0.1)\n",
    "  return tf.Variable(initial)"
   ]
  },
  {
   "cell_type": "code",
   "execution_count": 81,
   "metadata": {
    "colab": {},
    "colab_type": "code",
    "collapsed": true,
    "id": "MnZa5O-IyeIU"
   },
   "outputs": [],
   "source": [
    "learning_rate = 0.4\n",
    "num_of_epoch = 100"
   ]
  },
  {
   "cell_type": "code",
   "execution_count": 82,
   "metadata": {
    "collapsed": true
   },
   "outputs": [],
   "source": [
    "x = tf.placeholder(tf.float32, [None, 784])\n",
    "y_ = tf.placeholder(tf.float32, [None, 10])"
   ]
  },
  {
   "cell_type": "code",
   "execution_count": 83,
   "metadata": {
    "colab": {},
    "colab_type": "code",
    "id": "7sGQ8_rqyeIX"
   },
   "outputs": [],
   "source": [
    "W1 = tf.Variable(weight_variable((784,10)))\n",
    "b1 = tf.Variable(tf.zeros([10]))\n",
    "h1 = tf.nn.relu(tf.matmul(x, W1)+b1)\n",
    "W2 = tf.Variable(weight_variable((10,10)))\n",
    "b2 = tf.Variable(tf.zeros([10]))  # for classfication, "
   ]
  },
  {
   "cell_type": "code",
   "execution_count": 84,
   "metadata": {
    "colab": {},
    "colab_type": "code",
    "id": "PbvkmAa4yeIg"
   },
   "outputs": [],
   "source": [
    "#h1 = y = tf.nn.sigmoid(tf.matmul(x, W1) + b1)\n",
    "y = tf.nn.softmax(tf.matmul(h1, W2))"
   ]
  },
  {
   "cell_type": "code",
   "execution_count": 85,
   "metadata": {
    "colab": {},
    "colab_type": "code",
    "collapsed": true,
    "id": "2Ay_a4wZyeIj"
   },
   "outputs": [],
   "source": [
    "cross_entropy = tf.reduce_mean(-tf.reduce_sum(y_ * tf.log(y), reduction_indices=[1]))"
   ]
  },
  {
   "cell_type": "code",
   "execution_count": 86,
   "metadata": {
    "colab": {},
    "colab_type": "code",
    "collapsed": true,
    "id": "GEWvt6L6yeIn"
   },
   "outputs": [],
   "source": [
    "train_step = tf.train.GradientDescentOptimizer(learning_rate).minimize(cross_entropy)"
   ]
  },
  {
   "cell_type": "code",
   "execution_count": 87,
   "metadata": {
    "colab": {
     "base_uri": "https://localhost:8080/",
     "height": 34
    },
    "colab_type": "code",
    "executionInfo": {
     "elapsed": 18738,
     "status": "ok",
     "timestamp": 1542763970249,
     "user": {
      "displayName": "CHANG JOO Oh",
      "photoUrl": "https://lh3.googleusercontent.com/-OSh6aDfznEQ/AAAAAAAAAAI/AAAAAAAAAdQ/x_um0E9G7eA/s64/photo.jpg",
      "userId": "02799122219370934760"
     },
     "user_tz": -540
    },
    "id": "tjq2GOLfyeIq",
    "outputId": "3e0d9cf4-9749-4b4f-a1ec-29c9ad7d44c6"
   },
   "outputs": [
    {
     "name": "stderr",
     "output_type": "stream",
     "text": [
      "100%|██████████| 100/100 [00:10<00:00, 10.00it/s]\n"
     ]
    }
   ],
   "source": [
    "init = tf.global_variables_initializer()\n",
    "sess = tf.Session()\n",
    "sess.run(init)\n",
    "for i in tqdm(range(num_of_epoch)):\n",
    "    X = mnist.train.images\n",
    "    Y = mnist.train.labels\n",
    "    sess.run(train_step, feed_dict={x: X, y_: Y})"
   ]
  },
  {
   "cell_type": "code",
   "execution_count": 88,
   "metadata": {
    "colab": {
     "base_uri": "https://localhost:8080/",
     "height": 34
    },
    "colab_type": "code",
    "executionInfo": {
     "elapsed": 607,
     "status": "ok",
     "timestamp": 1542763976609,
     "user": {
      "displayName": "CHANG JOO Oh",
      "photoUrl": "https://lh3.googleusercontent.com/-OSh6aDfznEQ/AAAAAAAAAAI/AAAAAAAAAdQ/x_um0E9G7eA/s64/photo.jpg",
      "userId": "02799122219370934760"
     },
     "user_tz": -540
    },
    "id": "vcTKi62yyeIt",
    "outputId": "014a45c7-e11e-4baa-a71c-bb21e00eee86"
   },
   "outputs": [
    {
     "name": "stdout",
     "output_type": "stream",
     "text": [
      "0.8781\n"
     ]
    }
   ],
   "source": [
    "# Define accuracy\n",
    "correct_prediction = tf.equal(tf.argmax(y,1), tf.argmax(y_,1))\n",
    "accuracy = tf.reduce_mean(tf.cast(correct_prediction, tf.float32))\n",
    "print(sess.run(accuracy, feed_dict={x: mnist.test.images, y_: mnist.test.labels}))"
   ]
  },
  {
   "cell_type": "markdown",
   "metadata": {
    "colab_type": "text",
    "id": "Z3fSMVynyeI0"
   },
   "source": [
    "## Exercise 3: Visualize trained weight matrix of the W1"
   ]
  },
  {
   "cell_type": "code",
   "execution_count": 89,
   "metadata": {
    "colab": {
     "base_uri": "https://localhost:8080/",
     "height": 17
    },
    "colab_type": "code",
    "executionInfo": {
     "elapsed": 1595,
     "status": "ok",
     "timestamp": 1542763983106,
     "user": {
      "displayName": "CHANG JOO Oh",
      "photoUrl": "https://lh3.googleusercontent.com/-OSh6aDfznEQ/AAAAAAAAAAI/AAAAAAAAAdQ/x_um0E9G7eA/s64/photo.jpg",
      "userId": "02799122219370934760"
     },
     "user_tz": -540
    },
    "id": "fVWCTiCzyeI2",
    "outputId": "298ca62f-1177-4ca4-c3be-e14d48b3d0e5",
    "scrolled": true
   },
   "outputs": [
    {
     "data": {
      "image/png": "[encoded data removed]",
      "text/plain": [
       "<Figure size 1152x3456 with 20 Axes>"
      ]
     },
     "metadata": {
      "needs_background": "light"
     },
     "output_type": "display_data"
    }
   ],
   "source": [
    "# Get value of the weight matrix W\n",
    "W1_ = sess.run(W1)\n",
    "W2_ = sess.run(W2)\n",
    "\n",
    "# Plot filter in the first layer\n",
    "plt.figure(figsize=(16, 48))\n",
    "for i in range(10):\n",
    "    W1_i = W1_[:,i].reshape((28,28))\n",
    "    plt.subplot(10, 2, 2*i+1)\n",
    "    plt.title('Filter: %d'%i)\n",
    "    plt.imshow(W1_i, cmap='gray')  # gray    \n",
    "    \n",
    "    y = W2_[:,i]\n",
    "    x = np.arange(len(y))\n",
    "    plt.subplot(10, 2, 2*i+2)\n",
    "    plt.stem(x, y, '-.')\n",
    "    \n",
    "plt.show()\n"
   ]
  },
  {
   "cell_type": "markdown",
   "metadata": {
    "colab_type": "text",
    "id": "zVULNO_FyeI_"
   },
   "source": [
    "## Assignment #1"
   ]
  },
  {
   "cell_type": "markdown",
   "metadata": {
    "colab_type": "text",
    "id": "glQfdU-xyeI_"
   },
   "source": [
    "### 1.1 Report the result of the test accuracy, when we set the dimension of hidden layer to (50, 100, 500, 1000)."
   ]
  },
  {
   "cell_type": "code",
   "execution_count": 99,
   "metadata": {
    "colab": {},
    "colab_type": "code",
    "collapsed": true,
    "id": "SJL7T0-yyeJC"
   },
   "outputs": [],
   "source": [
    "### write your report  below\n",
    "# shape 50 :: accuracy = 0.9641  \n",
    "# shape 100 :: accuracy = 0.9741 \n",
    "# shape 500 :: accuracy = 0.977\n",
    "# shape 1000 :: accuracy = 0.9813\n",
    "\n",
    "# Think about the result "
   ]
  },
  {
   "cell_type": "code",
   "execution_count": 90,
   "metadata": {},
   "outputs": [
    {
     "name": "stdout",
     "output_type": "stream",
     "text": [
      "Extracting ITP117/train-images-idx3-ubyte.gz\n",
      "Extracting ITP117/train-labels-idx1-ubyte.gz\n",
      "Extracting ITP117/t10k-images-idx3-ubyte.gz\n",
      "Extracting ITP117/t10k-labels-idx1-ubyte.gz\n",
      "Epoch: 0001 Avg. cost = 0.851\n",
      "Epoch: 0002 Avg. cost = 0.414\n",
      "Epoch: 0003 Avg. cost = 0.314\n",
      "Epoch: 0004 Avg. cost = 0.258\n",
      "Epoch: 0005 Avg. cost = 0.225\n",
      "Epoch: 0006 Avg. cost = 0.202\n",
      "Epoch: 0007 Avg. cost = 0.188\n",
      "Epoch: 0008 Avg. cost = 0.173\n",
      "Epoch: 0009 Avg. cost = 0.164\n",
      "Epoch: 0010 Avg. cost = 0.160\n",
      "Optimization is finished\n",
      "0.9641\n"
     ]
    }
   ],
   "source": [
    "import tensorflow as tf\n",
    "import numpy as np\n",
    "from tensorflow.examples.tutorials.mnist import input_data\n",
    "mnist = input_data.read_data_sets(\"ITP117/\", one_hot=True)\n",
    "\n",
    "def weight_variable(shape):\n",
    "    initial = tf.truncated_normal(shape, stddev=0.01)\n",
    "    return tf.Variable(initial)\n",
    "\n",
    "learning_rate = 0.001\n",
    "num_of_epoch = 10\n",
    "hidden_dim = 50\n",
    "x = tf.placeholder(tf.float32, [None, 784])\n",
    "y = tf.placeholder(tf.float32, [None, 10])\n",
    "keep_prob = tf.placeholder(tf.float32)\n",
    "\n",
    "W1 = tf.Variable(weight_variable((784,hidden_dim)))\n",
    "#b1 = tf.Variable(tf.zeros([10]))\n",
    "#h1 = tf.nn.relu(tf.matmul(x, W1)+b1)\n",
    "h1 = tf.nn.relu(tf.matmul(x, W1))\n",
    "h1 = tf.nn.dropout(h1, keep_prob)\n",
    "\n",
    "W2 = tf.Variable(weight_variable((hidden_dim,hidden_dim)))\n",
    "#b2 = tf.Variable(tf.zeros([10]))  # for classfy, \n",
    "#y = tf.nn.softmax(tf.matmul(h4, w5)+b5)\n",
    "h2 = tf.nn.relu(tf.matmul(h1, W2))\n",
    "h2 = tf.nn.dropout(h2, keep_prob)\n",
    "\n",
    "W3 = tf.Variable(weight_variable((hidden_dim, 10)))\n",
    "model = tf.matmul(h2, W3)\n",
    "\n",
    "#cross_entropy  = cost \n",
    "cross_entropy= tf.reduce_mean(tf.nn.softmax_cross_entropy_with_logits_v2(logits=model, labels=y))\n",
    "train_step = tf.train.AdamOptimizer(learning_rate).minimize(cross_entropy)\n",
    "# Change Optimizer function :: GradientDecentOptimizer -> AdamOptimizer\n",
    "init = tf.global_variables_initializer()\n",
    "sess = tf.Session()\n",
    "sess.run(init)\n",
    "# insert batch size\n",
    "batch_size = 100\n",
    "total_batch = int(mnist.train.num_examples / batch_size)\n",
    "\n",
    "for epoch in range(num_of_epoch):\n",
    "    total_cost = 0\n",
    "    for i in range(total_batch):\n",
    "        batch_xs, batch_ys = mnist.train.next_batch(batch_size)\n",
    "        _, cost_val = sess.run([train_step, cross_entropy],feed_dict={x: batch_xs, y: batch_ys, keep_prob: 0.8})\n",
    "        total_cost += cost_val\n",
    "    \n",
    "    print('Epoch:', '%04d' % (epoch + 1), 'Avg. cost =', '{:.3f}'.format(total_cost / total_batch))\n",
    "    \n",
    "print('Optimization is finished')    \n",
    "\n",
    "#for i in tqdm(range(num_of_epoch)):\n",
    "#    X = mnist.train.images\n",
    "#    Y = mnist.train.labels\n",
    "#    sess.run(train_step, feed_dict={x: X, y_: Y})\n",
    "    \n",
    "# Define accuracy\n",
    "correct_prediction = tf.equal(tf.argmax(model,1), tf.argmax(y,1))\n",
    "accuracy = tf.reduce_mean(tf.cast(correct_prediction, tf.float32))\n",
    "print(sess.run(accuracy, feed_dict={x: mnist.test.images, y: mnist.test.labels, keep_prob:1}))\n",
    "\n",
    "sess.close()"
   ]
  },
  {
   "cell_type": "code",
   "execution_count": 91,
   "metadata": {},
   "outputs": [
    {
     "name": "stdout",
     "output_type": "stream",
     "text": [
      "Extracting ITP117/train-images-idx3-ubyte.gz\n",
      "Extracting ITP117/train-labels-idx1-ubyte.gz\n",
      "Extracting ITP117/t10k-images-idx3-ubyte.gz\n",
      "Extracting ITP117/t10k-labels-idx1-ubyte.gz\n",
      "Epoch: 0001 Avg. cost = 0.626\n",
      "Epoch: 0002 Avg. cost = 0.275\n",
      "Epoch: 0003 Avg. cost = 0.199\n",
      "Epoch: 0004 Avg. cost = 0.161\n",
      "Epoch: 0005 Avg. cost = 0.139\n",
      "Epoch: 0006 Avg. cost = 0.121\n",
      "Epoch: 0007 Avg. cost = 0.110\n",
      "Epoch: 0008 Avg. cost = 0.100\n",
      "Epoch: 0009 Avg. cost = 0.092\n",
      "Epoch: 0010 Avg. cost = 0.086\n",
      "Optimization is finished\n",
      "0.9741\n"
     ]
    }
   ],
   "source": [
    "import tensorflow as tf\n",
    "import numpy as np\n",
    "from tensorflow.examples.tutorials.mnist import input_data\n",
    "mnist = input_data.read_data_sets(\"ITP117/\", one_hot=True)\n",
    "\n",
    "def weight_variable(shape):\n",
    "    initial = tf.truncated_normal(shape, stddev=0.01)\n",
    "    return tf.Variable(initial)\n",
    "\n",
    "learning_rate = 0.001\n",
    "num_of_epoch = 10\n",
    "hidden_dim = 100\n",
    "x = tf.placeholder(tf.float32, [None, 784])\n",
    "y = tf.placeholder(tf.float32, [None, 10])\n",
    "keep_prob = tf.placeholder(tf.float32)\n",
    "\n",
    "W1 = tf.Variable(weight_variable((784,hidden_dim)))\n",
    "#b1 = tf.Variable(tf.zeros([10]))\n",
    "#h1 = tf.nn.relu(tf.matmul(x, W1)+b1)\n",
    "h1 = tf.nn.relu(tf.matmul(x, W1))\n",
    "h1 = tf.nn.dropout(h1, keep_prob)\n",
    "\n",
    "W2 = tf.Variable(weight_variable((hidden_dim,hidden_dim)))\n",
    "#b2 = tf.Variable(tf.zeros([10]))  # for classfy, \n",
    "#y = tf.nn.softmax(tf.matmul(h4, w5)+b5)\n",
    "h2 = tf.nn.relu(tf.matmul(h1, W2))\n",
    "h2 = tf.nn.dropout(h2, keep_prob)\n",
    "\n",
    "W3 = tf.Variable(weight_variable((hidden_dim, 10)))\n",
    "model = tf.matmul(h2, W3)\n",
    "\n",
    "#cross_entropy = tf.reduce_mean(-tf.reduce_sum(y_ * tf.log(y), reduction_indices=[1]))\n",
    "cross_entropy= tf.reduce_mean(tf.nn.softmax_cross_entropy_with_logits_v2(logits=model, labels=y))\n",
    "train_step = tf.train.AdamOptimizer(learning_rate).minimize(cross_entropy)\n",
    "# Change Optimizer function :: GradientDecentOptimizer -> AdamOptimizer\n",
    "init = tf.global_variables_initializer()\n",
    "sess = tf.Session()\n",
    "sess.run(init)\n",
    "# insert batch size\n",
    "batch_size = 100\n",
    "total_batch = int(mnist.train.num_examples / batch_size)\n",
    "\n",
    "for epoch in range(num_of_epoch):\n",
    "    total_cost = 0\n",
    "    for i in range(total_batch):\n",
    "        batch_xs, batch_ys = mnist.train.next_batch(batch_size)\n",
    "        _, cost_val = sess.run([train_step, cross_entropy],feed_dict={x: batch_xs, y: batch_ys, keep_prob: 0.8})\n",
    "        total_cost += cost_val\n",
    "    \n",
    "    print('Epoch:', '%04d' % (epoch + 1), 'Avg. cost =', '{:.3f}'.format(total_cost / total_batch))\n",
    "    \n",
    "print('Optimization is finished')    \n",
    "\n",
    "#for i in tqdm(range(num_of_epoch)):\n",
    "#    X = mnist.train.images\n",
    "#    Y = mnist.train.labels\n",
    "#    sess.run(train_step, feed_dict={x: X, y_: Y})\n",
    "    \n",
    "# Define accuracy\n",
    "correct_prediction = tf.equal(tf.argmax(model,1), tf.argmax(y,1))\n",
    "accuracy = tf.reduce_mean(tf.cast(correct_prediction, tf.float32))\n",
    "print(sess.run(accuracy, feed_dict={x: mnist.test.images, y: mnist.test.labels, keep_prob:1}))\n",
    "\n",
    "sess.close()"
   ]
  },
  {
   "cell_type": "code",
   "execution_count": 92,
   "metadata": {},
   "outputs": [
    {
     "name": "stdout",
     "output_type": "stream",
     "text": [
      "Extracting ITP117/train-images-idx3-ubyte.gz\n",
      "Extracting ITP117/train-labels-idx1-ubyte.gz\n",
      "Extracting ITP117/t10k-images-idx3-ubyte.gz\n",
      "Extracting ITP117/t10k-labels-idx1-ubyte.gz\n",
      "Epoch: 0001 Avg. cost = 0.340\n",
      "Epoch: 0002 Avg. cost = 0.127\n",
      "Epoch: 0003 Avg. cost = 0.089\n",
      "Epoch: 0004 Avg. cost = 0.068\n",
      "Epoch: 0005 Avg. cost = 0.055\n",
      "Epoch: 0006 Avg. cost = 0.047\n",
      "Epoch: 0007 Avg. cost = 0.037\n",
      "Epoch: 0008 Avg. cost = 0.033\n",
      "Epoch: 0009 Avg. cost = 0.030\n",
      "Epoch: 0010 Avg. cost = 0.029\n",
      "Optimization is finished\n",
      "0.977\n"
     ]
    }
   ],
   "source": [
    "import tensorflow as tf\n",
    "import numpy as np\n",
    "from tensorflow.examples.tutorials.mnist import input_data\n",
    "mnist = input_data.read_data_sets(\"ITP117/\", one_hot=True)\n",
    "\n",
    "def weight_variable(shape):\n",
    "    initial = tf.truncated_normal(shape, stddev=0.01)\n",
    "    return tf.Variable(initial)\n",
    "\n",
    "learning_rate = 0.001\n",
    "num_of_epoch = 10\n",
    "hidden_dim = 500\n",
    "x = tf.placeholder(tf.float32, [None, 784])\n",
    "y = tf.placeholder(tf.float32, [None, 10])\n",
    "keep_prob = tf.placeholder(tf.float32)\n",
    "\n",
    "W1 = tf.Variable(weight_variable((784,hidden_dim)))\n",
    "#b1 = tf.Variable(tf.zeros([10]))\n",
    "#h1 = tf.nn.relu(tf.matmul(x, W1)+b1)\n",
    "h1 = tf.nn.relu(tf.matmul(x, W1))\n",
    "h1 = tf.nn.dropout(h1, keep_prob)\n",
    "\n",
    "W2 = tf.Variable(weight_variable((hidden_dim,hidden_dim)))\n",
    "#b2 = tf.Variable(tf.zeros([10]))  # for classfy, \n",
    "#y = tf.nn.softmax(tf.matmul(h4, w5)+b5)\n",
    "h2 = tf.nn.relu(tf.matmul(h1, W2))\n",
    "h2 = tf.nn.dropout(h2, keep_prob)\n",
    "\n",
    "W3 = tf.Variable(weight_variable((hidden_dim, 10)))\n",
    "model = tf.matmul(h2, W3)\n",
    "\n",
    "#cross_entropy = tf.reduce_mean(-tf.reduce_sum(y_ * tf.log(y), reduction_indices=[1]))\n",
    "cross_entropy= tf.reduce_mean(tf.nn.softmax_cross_entropy_with_logits_v2(logits=model, labels=y))\n",
    "train_step = tf.train.AdamOptimizer(learning_rate).minimize(cross_entropy)\n",
    "# Change Optimizer function :: GradientDecentOptimizer -> AdamOptimizer\n",
    "init = tf.global_variables_initializer()\n",
    "sess = tf.Session()\n",
    "sess.run(init)\n",
    "# insert batch size\n",
    "batch_size = 100\n",
    "total_batch = int(mnist.train.num_examples / batch_size)\n",
    "\n",
    "for epoch in range(num_of_epoch):\n",
    "    total_cost = 0\n",
    "    for i in range(total_batch):\n",
    "        batch_xs, batch_ys = mnist.train.next_batch(batch_size)\n",
    "        _, cost_val = sess.run([train_step, cross_entropy],feed_dict={x: batch_xs, y: batch_ys, keep_prob: 0.8})\n",
    "        total_cost += cost_val\n",
    "    \n",
    "    print('Epoch:', '%04d' % (epoch + 1), 'Avg. cost =', '{:.3f}'.format(total_cost / total_batch))\n",
    "    \n",
    "print('Optimization is finished')    \n",
    "\n",
    "#for i in tqdm(range(num_of_epoch)):\n",
    "#    X = mnist.train.images\n",
    "#    Y = mnist.train.labels\n",
    "#    sess.run(train_step, feed_dict={x: X, y_: Y})\n",
    "    \n",
    "# Define accuracy\n",
    "correct_prediction = tf.equal(tf.argmax(model,1), tf.argmax(y,1))\n",
    "accuracy = tf.reduce_mean(tf.cast(correct_prediction, tf.float32))\n",
    "print(sess.run(accuracy, feed_dict={x: mnist.test.images, y: mnist.test.labels, keep_prob:1}))\n",
    "\n",
    "sess.close()"
   ]
  },
  {
   "cell_type": "code",
   "execution_count": 93,
   "metadata": {},
   "outputs": [
    {
     "name": "stdout",
     "output_type": "stream",
     "text": [
      "Extracting ITP117/train-images-idx3-ubyte.gz\n",
      "Extracting ITP117/train-labels-idx1-ubyte.gz\n",
      "Extracting ITP117/t10k-images-idx3-ubyte.gz\n",
      "Extracting ITP117/t10k-labels-idx1-ubyte.gz\n",
      "Epoch: 0001 Avg. cost = 0.276\n",
      "Epoch: 0002 Avg. cost = 0.105\n",
      "Epoch: 0003 Avg. cost = 0.074\n",
      "Epoch: 0004 Avg. cost = 0.056\n",
      "Epoch: 0005 Avg. cost = 0.049\n",
      "Epoch: 0006 Avg. cost = 0.041\n",
      "Epoch: 0007 Avg. cost = 0.035\n",
      "Epoch: 0008 Avg. cost = 0.030\n",
      "Epoch: 0009 Avg. cost = 0.033\n",
      "Epoch: 0010 Avg. cost = 0.027\n",
      "Optimization is finished\n",
      "0.9813\n"
     ]
    }
   ],
   "source": [
    "import tensorflow as tf\n",
    "import numpy as np\n",
    "from tensorflow.examples.tutorials.mnist import input_data\n",
    "mnist = input_data.read_data_sets(\"ITP117/\", one_hot=True)\n",
    "\n",
    "def weight_variable(shape):\n",
    "    initial = tf.truncated_normal(shape, stddev=0.01)\n",
    "    return tf.Variable(initial)\n",
    "\n",
    "learning_rate = 0.001\n",
    "num_of_epoch = 10\n",
    "hidden_dim = 1000\n",
    "x = tf.placeholder(tf.float32, [None, 784])\n",
    "y = tf.placeholder(tf.float32, [None, 10])\n",
    "keep_prob = tf.placeholder(tf.float32)\n",
    "\n",
    "W1 = tf.Variable(weight_variable((784,hidden_dim)))\n",
    "#b1 = tf.Variable(tf.zeros([10]))\n",
    "#h1 = tf.nn.relu(tf.matmul(x, W1)+b1)\n",
    "h1 = tf.nn.relu(tf.matmul(x, W1))\n",
    "h1 = tf.nn.dropout(h1, keep_prob)\n",
    "\n",
    "W2 = tf.Variable(weight_variable((hidden_dim,hidden_dim)))\n",
    "#b2 = tf.Variable(tf.zeros([10]))  # for classfy, \n",
    "#y = tf.nn.softmax(tf.matmul(h4, w5)+b5)\n",
    "h2 = tf.nn.relu(tf.matmul(h1, W2))\n",
    "h2 = tf.nn.dropout(h2, keep_prob)\n",
    "\n",
    "W3 = tf.Variable(weight_variable((hidden_dim, 10)))\n",
    "model = tf.matmul(h2, W3)\n",
    "\n",
    "#cross_entropy = tf.reduce_mean(-tf.reduce_sum(y_ * tf.log(y), reduction_indices=[1]))\n",
    "cross_entropy= tf.reduce_mean(tf.nn.softmax_cross_entropy_with_logits_v2(logits=model, labels=y))\n",
    "train_step = tf.train.AdamOptimizer(learning_rate).minimize(cross_entropy)\n",
    "# Change Optimizer function :: GradientDecentOptimizer -> AdamOptimizer\n",
    "init = tf.global_variables_initializer()\n",
    "sess = tf.Session()\n",
    "sess.run(init)\n",
    "# insert batch size\n",
    "batch_size = 100\n",
    "total_batch = int(mnist.train.num_examples / batch_size)\n",
    "\n",
    "for epoch in range(num_of_epoch):\n",
    "    total_cost = 0\n",
    "    for i in range(total_batch):\n",
    "        batch_xs, batch_ys = mnist.train.next_batch(batch_size)\n",
    "        _, cost_val = sess.run([train_step, cross_entropy],feed_dict={x: batch_xs, y: batch_ys, keep_prob: 0.8})\n",
    "        total_cost += cost_val\n",
    "    \n",
    "    print('Epoch:', '%04d' % (epoch + 1), 'Avg. cost =', '{:.3f}'.format(total_cost / total_batch))\n",
    "    \n",
    "print('Optimization is finished')    \n",
    "\n",
    "#for i in tqdm(range(num_of_epoch)):\n",
    "#    X = mnist.train.images\n",
    "#    Y = mnist.train.labels\n",
    "#    sess.run(train_step, feed_dict={x: X, y_: Y})\n",
    "    \n",
    "# Define accuracy\n",
    "correct_prediction = tf.equal(tf.argmax(model,1), tf.argmax(y,1))\n",
    "accuracy = tf.reduce_mean(tf.cast(correct_prediction, tf.float32))\n",
    "print(sess.run(accuracy, feed_dict={x: mnist.test.images, y: mnist.test.labels, keep_prob:1}))\n",
    "\n",
    "sess.close()"
   ]
  },
  {
   "cell_type": "markdown",
   "metadata": {
    "colab_type": "text",
    "id": "YlY1y-SIyeJF"
   },
   "source": [
    "### 1.2  Report the result when number of hidden layer is (2, 4, 8, 16)."
   ]
  },
  {
   "cell_type": "code",
   "execution_count": 103,
   "metadata": {
    "collapsed": true
   },
   "outputs": [],
   "source": [
    "# dimmension : 100 & hidden layer : 2  ==>  accuracy : 0.9755 \n",
    "# dimmension : 100 & hidden layer : 4  ==>  accuracy : 0.9693 \n",
    "# dimmension : 100 & hidden layer : 8  ==>  accuracy : 0.2126\n",
    "# dimmension : 100 & hidden layer : 16  ==>  accuracy : 0.1051 (cost is not changed in the progress)\n",
    "# Think about the above result"
   ]
  },
  {
   "cell_type": "code",
   "execution_count": 94,
   "metadata": {},
   "outputs": [
    {
     "name": "stdout",
     "output_type": "stream",
     "text": [
      "Extracting ITP117/train-images-idx3-ubyte.gz\n",
      "Extracting ITP117/train-labels-idx1-ubyte.gz\n",
      "Extracting ITP117/t10k-images-idx3-ubyte.gz\n",
      "Extracting ITP117/t10k-labels-idx1-ubyte.gz\n",
      "Epoch: 0001 Avg. cost = 0.625\n",
      "Epoch: 0002 Avg. cost = 0.273\n",
      "Epoch: 0003 Avg. cost = 0.198\n",
      "Epoch: 0004 Avg. cost = 0.161\n",
      "Epoch: 0005 Avg. cost = 0.138\n",
      "Epoch: 0006 Avg. cost = 0.121\n",
      "Epoch: 0007 Avg. cost = 0.107\n",
      "Epoch: 0008 Avg. cost = 0.098\n",
      "Epoch: 0009 Avg. cost = 0.089\n",
      "Epoch: 0010 Avg. cost = 0.083\n",
      "Optimization is finished\n",
      "0.9755\n"
     ]
    }
   ],
   "source": [
    "# Case of using Dropout() & dimension of hidden layer :: 100 / number of hidden layer : 2\n",
    "\n",
    "import tensorflow as tf\n",
    "import numpy as np\n",
    "from tqdm import tqdm\n",
    "import matplotlib.pyplot as plt\n",
    "from tqdm import tqdm # display the progress bar\n",
    "from tensorflow.examples.tutorials.mnist import input_data\n",
    "mnist = input_data.read_data_sets(\"ITP117/\", one_hot=True)\n",
    "\n",
    "def weight_variable(shape):\n",
    "    initial = tf.truncated_normal(shape, stddev=0.01)\n",
    "    return tf.Variable(initial)\n",
    "\n",
    "learning_rate = 0.001\n",
    "num_of_epoch = 10\n",
    "hidden_dim = 100\n",
    "x = tf.placeholder(tf.float32, [None, 784])\n",
    "y = tf.placeholder(tf.float32, [None, 10])\n",
    "keep_prob = tf.placeholder(tf.float32)\n",
    "\n",
    "W1 = tf.Variable(weight_variable((784,hidden_dim)))\n",
    "#b1 = tf.Variable(tf.zeros([10]))\n",
    "#h1 = tf.nn.relu(tf.matmul(x, W1)+b1)\n",
    "h1 = tf.nn.relu(tf.matmul(x, W1))\n",
    "h1 = tf.nn.dropout(h1, keep_prob)\n",
    "\n",
    "W2 = tf.Variable(weight_variable((hidden_dim,hidden_dim)))\n",
    "#b2 = tf.Variable(tf.zeros([10]))  # for classfy, \n",
    "#y = tf.nn.softmax(tf.matmul(h4, w5)+b5)\n",
    "h2 = tf.nn.relu(tf.matmul(h1, W2))\n",
    "h2 = tf.nn.dropout(h2, keep_prob)\n",
    "\n",
    "W3 = tf.Variable(weight_variable((hidden_dim, 10)))\n",
    "model = tf.matmul(h2, W3)\n",
    "#cross_entropy = tf.reduce_mean(-tf.reduce_sum(y_ * tf.log(y), reduction_indices=[1]))\n",
    "cross_entropy= tf.reduce_mean(tf.nn.softmax_cross_entropy_with_logits_v2(logits=model, labels=y))\n",
    "train_step = tf.train.AdamOptimizer(learning_rate).minimize(cross_entropy)\n",
    "# Change Optimizer function :: GradientDecentOptimizer -> AdamOptimizer\n",
    "init = tf.global_variables_initializer()\n",
    "sess = tf.Session()\n",
    "sess.run(init)\n",
    "# insert batch size\n",
    "batch_size = 100\n",
    "total_batch = int(mnist.train.num_examples / batch_size)\n",
    "\n",
    "for epoch in range(num_of_epoch):\n",
    "    total_cost = 0\n",
    "    for i in range(total_batch):\n",
    "        batch_xs, batch_ys = mnist.train.next_batch(batch_size)\n",
    "        _, cost_val = sess.run([train_step, cross_entropy],feed_dict={x: batch_xs, y: batch_ys, keep_prob: 0.8})\n",
    "        total_cost += cost_val\n",
    "    \n",
    "    print('Epoch:', '%04d' % (epoch + 1), 'Avg. cost =', '{:.3f}'.format(total_cost / total_batch))\n",
    "    \n",
    "print('Optimization is finished')    \n",
    "\n",
    "#for i in tqdm(range(num_of_epoch)):\n",
    "#    X = mnist.train.images\n",
    "#    Y = mnist.train.labels\n",
    "#    sess.run(train_step, feed_dict={x: X, y_: Y})\n",
    "    \n",
    "# Define accuracy\n",
    "correct_prediction = tf.equal(tf.argmax(model,1), tf.argmax(y,1))\n",
    "accuracy = tf.reduce_mean(tf.cast(correct_prediction, tf.float32))\n",
    "print(sess.run(accuracy, feed_dict={x: mnist.test.images, y: mnist.test.labels, keep_prob:1}))\n",
    "\n",
    "sess.close()"
   ]
  },
  {
   "cell_type": "code",
   "execution_count": 96,
   "metadata": {},
   "outputs": [
    {
     "name": "stdout",
     "output_type": "stream",
     "text": [
      "Extracting ITP117/train-images-idx3-ubyte.gz\n",
      "Extracting ITP117/train-labels-idx1-ubyte.gz\n",
      "Extracting ITP117/t10k-images-idx3-ubyte.gz\n",
      "Extracting ITP117/t10k-labels-idx1-ubyte.gz\n",
      "Epoch: 0001 Avg. cost = 0.985\n",
      "Epoch: 0002 Avg. cost = 0.371\n",
      "Epoch: 0003 Avg. cost = 0.264\n",
      "Epoch: 0004 Avg. cost = 0.206\n",
      "Epoch: 0005 Avg. cost = 0.174\n",
      "Epoch: 0006 Avg. cost = 0.152\n",
      "Epoch: 0007 Avg. cost = 0.145\n",
      "Epoch: 0008 Avg. cost = 0.129\n",
      "Epoch: 0009 Avg. cost = 0.119\n",
      "Epoch: 0010 Avg. cost = 0.111\n",
      "Optimization is finished\n",
      "0.9693\n"
     ]
    }
   ],
   "source": [
    "# Case of using Dropout() & dimension of hidden layer :: 100 / number of hidden layer : 4\n",
    "\n",
    "import tensorflow as tf\n",
    "import numpy as np\n",
    "from tqdm import tqdm # display the progress bar\n",
    "from tensorflow.examples.tutorials.mnist import input_data\n",
    "mnist = input_data.read_data_sets(\"ITP117/\", one_hot=True)\n",
    "\n",
    "def weight_variable(shape):\n",
    "    initial = tf.truncated_normal(shape, stddev=0.01)\n",
    "    return tf.Variable(initial)\n",
    "\n",
    "learning_rate = 0.001\n",
    "num_of_epoch = 10\n",
    "hidden_dim = 100\n",
    "x = tf.placeholder(tf.float32, [None, 784])\n",
    "y = tf.placeholder(tf.float32, [None, 10])\n",
    "keep_prob = tf.placeholder(tf.float32)\n",
    "\n",
    "W1 = tf.Variable(weight_variable((784,hidden_dim)))\n",
    "#b1 = tf.Variable(tf.zeros([10]))\n",
    "#h1 = tf.nn.relu(tf.matmul(x, W1)+b1)\n",
    "h1 = tf.nn.relu(tf.matmul(x, W1))\n",
    "h1 = tf.nn.dropout(h1, keep_prob)\n",
    "\n",
    "W2 = tf.Variable(weight_variable((hidden_dim,hidden_dim)))\n",
    "h2 = tf.nn.relu(tf.matmul(h1, W2))\n",
    "h2 = tf.nn.dropout(h2, keep_prob)\n",
    "\n",
    "W3 = tf.Variable(weight_variable((hidden_dim,hidden_dim)))\n",
    "h3 = tf.nn.relu(tf.matmul(h2, W3))\n",
    "h3 = tf.nn.dropout(h3, keep_prob)\n",
    "\n",
    "W4 = tf.Variable(weight_variable((hidden_dim,hidden_dim)))\n",
    "h4 = tf.nn.relu(tf.matmul(h3, W4))\n",
    "h4 = tf.nn.dropout(h4, keep_prob)\n",
    "\n",
    "W5 = tf.Variable(weight_variable((hidden_dim, 10)))\n",
    "model = tf.matmul(h4, W5)\n",
    "\n",
    "#cross_entropy = tf.reduce_mean(-tf.reduce_sum(y_ * tf.log(y), reduction_indices=[1]))\n",
    "cross_entropy= tf.reduce_mean(tf.nn.softmax_cross_entropy_with_logits_v2(logits=model, labels=y))\n",
    "train_step = tf.train.AdamOptimizer(learning_rate).minimize(cross_entropy)\n",
    "# Change Optimizer function :: GradientDecentOptimizer -> AdamOptimizer\n",
    "init = tf.global_variables_initializer()\n",
    "sess = tf.Session()\n",
    "sess.run(init)\n",
    "# insert batch size\n",
    "batch_size = 100\n",
    "total_batch = int(mnist.train.num_examples / batch_size)\n",
    "\n",
    "for epoch in range(num_of_epoch):\n",
    "    total_cost = 0\n",
    "    for i in range(total_batch):\n",
    "        batch_xs, batch_ys = mnist.train.next_batch(batch_size)\n",
    "        _, cost_val = sess.run([train_step, cross_entropy],feed_dict={x: batch_xs, y: batch_ys, keep_prob: 0.8})\n",
    "        total_cost += cost_val\n",
    "    \n",
    "    print('Epoch:', '%04d' % (epoch + 1), 'Avg. cost =', '{:.3f}'.format(total_cost / total_batch))\n",
    "    \n",
    "print('Optimization is finished')    \n",
    "\n",
    "#for i in tqdm(range(num_of_epoch)):\n",
    "#    X = mnist.train.images\n",
    "#    Y = mnist.train.labels\n",
    "#    sess.run(train_step, feed_dict={x: X, y_: Y})\n",
    "    \n",
    "# Define accuracy\n",
    "correct_prediction = tf.equal(tf.argmax(model,1), tf.argmax(y,1))\n",
    "accuracy = tf.reduce_mean(tf.cast(correct_prediction, tf.float32))\n",
    "print(sess.run(accuracy, feed_dict={x: mnist.test.images, y: mnist.test.labels, keep_prob:1}))\n",
    "\n",
    "sess.close()"
   ]
  },
  {
   "cell_type": "code",
   "execution_count": 100,
   "metadata": {},
   "outputs": [
    {
     "name": "stdout",
     "output_type": "stream",
     "text": [
      "Extracting ITP117/train-images-idx3-ubyte.gz\n",
      "Extracting ITP117/train-labels-idx1-ubyte.gz\n",
      "Extracting ITP117/t10k-images-idx3-ubyte.gz\n",
      "Extracting ITP117/t10k-labels-idx1-ubyte.gz\n",
      "Epoch: 0001 Avg. cost = 2.303\n",
      "Epoch: 0002 Avg. cost = 2.303\n",
      "Epoch: 0003 Avg. cost = 2.303\n",
      "Epoch: 0004 Avg. cost = 2.303\n",
      "Epoch: 0005 Avg. cost = 2.303\n",
      "Epoch: 0006 Avg. cost = 2.247\n",
      "Epoch: 0007 Avg. cost = 1.554\n",
      "Epoch: 0008 Avg. cost = 1.468\n",
      "Epoch: 0009 Avg. cost = 1.428\n",
      "Epoch: 0010 Avg. cost = 1.414\n",
      "Optimization is finished\n",
      "0.2126\n"
     ]
    }
   ],
   "source": [
    "# Case of using Dropout() & dimension of hidden layer :: 100 / number of hidden layer : 8\n",
    "\n",
    "import tensorflow as tf\n",
    "import numpy as np\n",
    "from tqdm import tqdm # display the progress bar\n",
    "from tensorflow.examples.tutorials.mnist import input_data\n",
    "mnist = input_data.read_data_sets(\"ITP117/\", one_hot=True)\n",
    "\n",
    "def weight_variable(shape):\n",
    "    initial = tf.truncated_normal(shape, stddev=0.01)\n",
    "    return tf.Variable(initial)\n",
    "\n",
    "learning_rate = 0.001\n",
    "num_of_epoch = 10\n",
    "hidden_dim = 100\n",
    "x = tf.placeholder(tf.float32, [None, 784])\n",
    "y = tf.placeholder(tf.float32, [None, 10])\n",
    "keep_prob = tf.placeholder(tf.float32)\n",
    "\n",
    "W1 = tf.Variable(weight_variable((784,hidden_dim)))\n",
    "#b1 = tf.Variable(tf.zeros([10]))\n",
    "#h1 = tf.nn.relu(tf.matmul(x, W1)+b1)\n",
    "h1 = tf.nn.relu(tf.matmul(x, W1))\n",
    "h1 = tf.nn.dropout(h1, keep_prob)\n",
    "\n",
    "W2 = tf.Variable(weight_variable((hidden_dim,hidden_dim)))\n",
    "h2 = tf.nn.relu(tf.matmul(h1, W2))\n",
    "h2 = tf.nn.dropout(h2, keep_prob)\n",
    "\n",
    "W3 = tf.Variable(weight_variable((hidden_dim,hidden_dim)))\n",
    "h3 = tf.nn.relu(tf.matmul(h2, W3))\n",
    "h3 = tf.nn.dropout(h3, keep_prob)\n",
    "\n",
    "W4 = tf.Variable(weight_variable((hidden_dim,hidden_dim)))\n",
    "h4 = tf.nn.relu(tf.matmul(h3, W4))\n",
    "h4 = tf.nn.dropout(h4, keep_prob)\n",
    "\n",
    "W5 = tf.Variable(weight_variable((hidden_dim,hidden_dim)))\n",
    "h5 = tf.nn.relu(tf.matmul(h4, W5))\n",
    "h5 = tf.nn.dropout(h5, keep_prob)\n",
    "\n",
    "W6 = tf.Variable(weight_variable((hidden_dim,hidden_dim)))\n",
    "h6 = tf.nn.relu(tf.matmul(h5, W6))\n",
    "h6 = tf.nn.dropout(h6, keep_prob)\n",
    "\n",
    "W7 = tf.Variable(weight_variable((hidden_dim,hidden_dim)))\n",
    "h7 = tf.nn.relu(tf.matmul(h6, W7))\n",
    "h7 = tf.nn.dropout(h7, keep_prob)\n",
    "\n",
    "W8 = tf.Variable(weight_variable((hidden_dim,hidden_dim)))\n",
    "h8 = tf.nn.relu(tf.matmul(h7, W8))\n",
    "h8 = tf.nn.dropout(h8, keep_prob)\n",
    "\n",
    "W9 = tf.Variable(weight_variable((hidden_dim, 10)))\n",
    "model = tf.matmul(h8, W9)\n",
    "\n",
    "#cross_entropy = tf.reduce_mean(-tf.reduce_sum(y_ * tf.log(y), reduction_indices=[1]))\n",
    "cross_entropy= tf.reduce_mean(tf.nn.softmax_cross_entropy_with_logits_v2(logits=model, labels=y))\n",
    "train_step = tf.train.AdamOptimizer(learning_rate).minimize(cross_entropy)\n",
    "# Change Optimizer function :: GradientDecentOptimizer -> AdamOptimizer\n",
    "init = tf.global_variables_initializer()\n",
    "sess = tf.Session()\n",
    "sess.run(init)\n",
    "# insert batch size\n",
    "batch_size = 100\n",
    "total_batch = int(mnist.train.num_examples / batch_size)\n",
    "\n",
    "for epoch in range(num_of_epoch):\n",
    "    total_cost = 0\n",
    "    for i in range(total_batch):\n",
    "        batch_xs, batch_ys = mnist.train.next_batch(batch_size)\n",
    "        _, cost_val = sess.run([train_step, cross_entropy],feed_dict={x: batch_xs, y: batch_ys, keep_prob: 0.8})\n",
    "        total_cost += cost_val\n",
    "    \n",
    "    print('Epoch:', '%04d' % (epoch + 1), 'Avg. cost =', '{:.3f}'.format(total_cost / total_batch))\n",
    "    \n",
    "print('Optimization is finished')    \n",
    "\n",
    "#for i in tqdm(range(num_of_epoch)):\n",
    "#    X = mnist.train.images\n",
    "#    Y = mnist.train.labels\n",
    "#    sess.run(train_step, feed_dict={x: X, y_: Y})\n",
    "    \n",
    "# Define accuracy\n",
    "correct_prediction = tf.equal(tf.argmax(model,1), tf.argmax(y,1))\n",
    "accuracy = tf.reduce_mean(tf.cast(correct_prediction, tf.float32))\n",
    "print(sess.run(accuracy, feed_dict={x: mnist.test.images, y: mnist.test.labels, keep_prob:1}))\n",
    "\n",
    "sess.close()"
   ]
  },
  {
   "cell_type": "code",
   "execution_count": 102,
   "metadata": {},
   "outputs": [
    {
     "name": "stdout",
     "output_type": "stream",
     "text": [
      "Extracting ITP117/train-images-idx3-ubyte.gz\n",
      "Extracting ITP117/train-labels-idx1-ubyte.gz\n",
      "Extracting ITP117/t10k-images-idx3-ubyte.gz\n",
      "Extracting ITP117/t10k-labels-idx1-ubyte.gz\n",
      "Epoch: 0001 Avg. cost = 2.303\n",
      "Epoch: 0002 Avg. cost = 2.303\n",
      "Epoch: 0003 Avg. cost = 2.303\n",
      "Epoch: 0004 Avg. cost = 2.303\n",
      "Epoch: 0005 Avg. cost = 2.303\n",
      "Epoch: 0006 Avg. cost = 2.303\n",
      "Epoch: 0007 Avg. cost = 2.303\n",
      "Epoch: 0008 Avg. cost = 2.303\n",
      "Epoch: 0009 Avg. cost = 2.303\n",
      "Epoch: 0010 Avg. cost = 2.303\n",
      "Optimization is finished\n",
      "0.1041\n"
     ]
    }
   ],
   "source": [
    "# Case of using Dropout() & dimension of hidden layer :: 100 / number of hidden layer : 16\n",
    "\n",
    "import tensorflow as tf\n",
    "import numpy as np\n",
    "from tqdm import tqdm # display the progress bar\n",
    "from tensorflow.examples.tutorials.mnist import input_data\n",
    "mnist = input_data.read_data_sets(\"ITP117/\", one_hot=True)\n",
    "\n",
    "def weight_variable(shape):\n",
    "    initial = tf.truncated_normal(shape, stddev=0.01)\n",
    "    return tf.Variable(initial)\n",
    "\n",
    "learning_rate = 0.001\n",
    "num_of_epoch = 10\n",
    "hidden_dim = 100\n",
    "x = tf.placeholder(tf.float32, [None, 784])\n",
    "y = tf.placeholder(tf.float32, [None, 10])\n",
    "keep_prob = tf.placeholder(tf.float32)\n",
    "\n",
    "W1 = tf.Variable(weight_variable((784,hidden_dim)))\n",
    "#b1 = tf.Variable(tf.zeros([10]))\n",
    "#h1 = tf.nn.relu(tf.matmul(x, W1)+b1)\n",
    "h1 = tf.nn.relu(tf.matmul(x, W1))\n",
    "h1 = tf.nn.dropout(h1, keep_prob)\n",
    "\n",
    "W2 = tf.Variable(weight_variable((hidden_dim,hidden_dim)))\n",
    "h2 = tf.nn.relu(tf.matmul(h1, W2))\n",
    "h2 = tf.nn.dropout(h2, keep_prob)\n",
    "\n",
    "W3 = tf.Variable(weight_variable((hidden_dim,hidden_dim)))\n",
    "h3 = tf.nn.relu(tf.matmul(h2, W3))\n",
    "h3 = tf.nn.dropout(h3, keep_prob)\n",
    "\n",
    "W4 = tf.Variable(weight_variable((hidden_dim,hidden_dim)))\n",
    "h4 = tf.nn.relu(tf.matmul(h3, W4))\n",
    "h4 = tf.nn.dropout(h4, keep_prob)\n",
    "\n",
    "W5 = tf.Variable(weight_variable((hidden_dim,hidden_dim)))\n",
    "h5 = tf.nn.relu(tf.matmul(h4, W5))\n",
    "h5 = tf.nn.dropout(h5, keep_prob)\n",
    "\n",
    "W6 = tf.Variable(weight_variable((hidden_dim,hidden_dim)))\n",
    "h6 = tf.nn.relu(tf.matmul(h5, W6))\n",
    "h6 = tf.nn.dropout(h6, keep_prob)\n",
    "\n",
    "W7 = tf.Variable(weight_variable((hidden_dim,hidden_dim)))\n",
    "h7 = tf.nn.relu(tf.matmul(h6, W7))\n",
    "h7 = tf.nn.dropout(h7, keep_prob)\n",
    "\n",
    "W8 = tf.Variable(weight_variable((hidden_dim,hidden_dim)))\n",
    "h8 = tf.nn.relu(tf.matmul(h7, W8))\n",
    "h8 = tf.nn.dropout(h8, keep_prob)\n",
    "\n",
    "W9 = tf.Variable(weight_variable((hidden_dim,hidden_dim)))\n",
    "h9 = tf.nn.relu(tf.matmul(h8, W9))\n",
    "h9 = tf.nn.dropout(h9, keep_prob)\n",
    "\n",
    "W10 = tf.Variable(weight_variable((hidden_dim,hidden_dim)))\n",
    "h10 = tf.nn.relu(tf.matmul(h9, W10))\n",
    "h10 = tf.nn.dropout(h10, keep_prob)\n",
    "\n",
    "W11 = tf.Variable(weight_variable((hidden_dim,hidden_dim)))\n",
    "h11 = tf.nn.relu(tf.matmul(h10, W11))\n",
    "h11 = tf.nn.dropout(h11, keep_prob)\n",
    "\n",
    "W12 = tf.Variable(weight_variable((hidden_dim,hidden_dim)))\n",
    "h12 = tf.nn.relu(tf.matmul(h11, W12))\n",
    "h12 = tf.nn.dropout(h12, keep_prob)\n",
    "\n",
    "W13 = tf.Variable(weight_variable((hidden_dim,hidden_dim)))\n",
    "h13 = tf.nn.relu(tf.matmul(h12, W13))\n",
    "h13 = tf.nn.dropout(h13, keep_prob)\n",
    "\n",
    "W14 = tf.Variable(weight_variable((hidden_dim,hidden_dim)))\n",
    "h14 = tf.nn.relu(tf.matmul(h13, W14))\n",
    "h14 = tf.nn.dropout(h14, keep_prob)\n",
    "\n",
    "W15 = tf.Variable(weight_variable((hidden_dim,hidden_dim)))\n",
    "h15 = tf.nn.relu(tf.matmul(h14, W15))\n",
    "h15 = tf.nn.dropout(h15, keep_prob)\n",
    "\n",
    "W16 = tf.Variable(weight_variable((hidden_dim,hidden_dim)))\n",
    "h16 = tf.nn.relu(tf.matmul(h15, W16))\n",
    "h16 = tf.nn.dropout(h16, keep_prob)\n",
    "\n",
    "W17 = tf.Variable(weight_variable((hidden_dim, 10)))\n",
    "model = tf.matmul(h16, W17)\n",
    "\n",
    "#cross_entropy = tf.reduce_mean(-tf.reduce_sum(y_ * tf.log(y), reduction_indices=[1]))\n",
    "cross_entropy= tf.reduce_mean(tf.nn.softmax_cross_entropy_with_logits_v2(logits=model, labels=y))\n",
    "train_step = tf.train.AdamOptimizer(learning_rate).minimize(cross_entropy)\n",
    "# Change Optimizer function :: GradientDecentOptimizer -> AdamOptimizer\n",
    "init = tf.global_variables_initializer()\n",
    "sess = tf.Session()\n",
    "sess.run(init)\n",
    "# insert batch size\n",
    "batch_size = 100\n",
    "total_batch = int(mnist.train.num_examples / batch_size)\n",
    "\n",
    "for epoch in range(num_of_epoch):\n",
    "    total_cost = 0\n",
    "    for i in range(total_batch):\n",
    "        batch_xs, batch_ys = mnist.train.next_batch(batch_size)\n",
    "        _, cost_val = sess.run([train_step, cross_entropy],feed_dict={x: batch_xs, y: batch_ys, keep_prob: 0.8})\n",
    "        total_cost += cost_val\n",
    "    \n",
    "    print('Epoch:', '%04d' % (epoch + 1), 'Avg. cost =', '{:.3f}'.format(total_cost / total_batch))\n",
    "    \n",
    "print('Optimization is finished')    \n",
    "\n",
    "#for i in tqdm(range(num_of_epoch)):\n",
    "#    X = mnist.train.images\n",
    "#    Y = mnist.train.labels\n",
    "#    sess.run(train_step, feed_dict={x: X, y_: Y})\n",
    "    \n",
    "# Define accuracy\n",
    "correct_prediction = tf.equal(tf.argmax(model,1), tf.argmax(y,1))\n",
    "accuracy = tf.reduce_mean(tf.cast(correct_prediction, tf.float32))\n",
    "print(sess.run(accuracy, feed_dict={x: mnist.test.images, y: mnist.test.labels, keep_prob:1}))\n",
    "\n",
    "sess.close()"
   ]
  },
  {
   "cell_type": "code",
   "execution_count": null,
   "metadata": {
    "collapsed": true
   },
   "outputs": [],
   "source": []
  }
 ],
 "metadata": {
  "colab": {
   "name": "week3.ipynb",
   "provenance": [],
   "version": "0.3.2"
  },
  "kernelspec": {
   "display_name": "Python 3",
   "language": "python",
   "name": "python3"
  },
  "language_info": {
   "codemirror_mode": {
    "name": "ipython",
    "version": 3
   },
   "file_extension": ".py",
   "mimetype": "text/x-python",
   "name": "python",
   "nbconvert_exporter": "python",
   "pygments_lexer": "ipython3",
   "version": "3.6.4"
  }
 },
 "nbformat": 4,
 "nbformat_minor": 1
}
